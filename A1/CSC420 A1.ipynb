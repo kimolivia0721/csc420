{
 "cells": [
  {
   "cell_type": "code",
   "execution_count": null,
   "source": [
    "#Gaussian Blur\n",
    "kernel = cv2.getGaussianKernel(15, 500)"
   ],
   "outputs": [],
   "metadata": {}
  },
  {
   "cell_type": "code",
   "execution_count": null,
   "source": [],
   "outputs": [],
   "metadata": {}
  }
 ],
 "metadata": {
  "orig_nbformat": 4,
  "language_info": {
   "name": "python"
  }
 },
 "nbformat": 4,
 "nbformat_minor": 2
}